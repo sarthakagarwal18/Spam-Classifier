{
 "cells": [
  {
   "cell_type": "code",
   "execution_count": 1,
   "metadata": {
    "collapsed": true
   },
   "outputs": [],
   "source": [
    "# Importing the required header files\n",
    "import numpy as np\n",
    "import os\n",
    "from sklearn.feature_extraction.text import CountVectorizer\n",
    "from sklearn.naive_bayes import MultinomialNB"
   ]
  },
  {
   "cell_type": "code",
   "execution_count": 2,
   "metadata": {
    "collapsed": false
   },
   "outputs": [],
   "source": [
    "# Function for reading the emails and extracting the message\n",
    "def read_file(path):\n",
    "    \n",
    "    for root, dirname, filenames in os.walk(path):\n",
    "        \n",
    "        for filename in filenames:\n",
    "            \n",
    "            path=os.path.join(root,filename)\n",
    "            f=open(path,'r')\n",
    "            lines=[]\n",
    "            for line in f:\n",
    "                lines.append(line)\n",
    "            f.close()\n",
    "            message='\\n'.join(lines)\n",
    "            yield message"
   ]
  },
  {
   "cell_type": "code",
   "execution_count": 3,
   "metadata": {
    "collapsed": false
   },
   "outputs": [
    {
     "name": "stdout",
     "output_type": "stream",
     "text": [
      "(700, 2)\n"
     ]
    }
   ],
   "source": [
    "train_mail=[]\n",
    "\n",
    "# adding spam mails in training dataset\n",
    "for message in read_file('Training_Set/spam'):\n",
    "    train_mail.append([message,'spam'])\n",
    "    \n",
    "# adding ham mails in training dataset\n",
    "for message in read_file('Training_Set/ham'):\n",
    "    train_mail.append([message,'ham'])\n",
    "    \n",
    "# converting train_mail to a numpy array\n",
    "train_data=np.asarray(train_mail)\n",
    "\n",
    "# Shows 700 mails with 2 columns (message,(spam/ham))\n",
    "print (train_data.shape)"
   ]
  },
  {
   "cell_type": "code",
   "execution_count": 4,
   "metadata": {
    "collapsed": false
   },
   "outputs": [],
   "source": [
    "# CountVectorizer helps to store the word frequency in a message\n",
    "vectorizer=CountVectorizer()\n",
    "counts=vectorizer.fit_transform(train_data[:,0])"
   ]
  },
  {
   "cell_type": "code",
   "execution_count": 5,
   "metadata": {
    "collapsed": false
   },
   "outputs": [
    {
     "data": {
      "text/plain": [
       "MultinomialNB(alpha=1.0, class_prior=None, fit_prior=True)"
      ]
     },
     "execution_count": 5,
     "metadata": {},
     "output_type": "execute_result"
    }
   ],
   "source": [
    "# MultinomialNB is used for implementing naive bayes algorithm\n",
    "# it takes the word counts and the training labels as arguments\n",
    "classifer=MultinomialNB()\n",
    "targets=train_data[:,1]\n",
    "classifer.fit(counts,targets)"
   ]
  },
  {
   "cell_type": "code",
   "execution_count": 6,
   "metadata": {
    "collapsed": false
   },
   "outputs": [
    {
     "name": "stdout",
     "output_type": "stream",
     "text": [
      "(260, 2)\n"
     ]
    }
   ],
   "source": [
    "test_mail=[]\n",
    "\n",
    "# adding spam mails in testing dataset\n",
    "for message in read_file('Testing_Set/spam'):\n",
    "    test_mail.append([message,'spam'])\n",
    "    \n",
    "# adding ham mails in testing dataset\n",
    "for message in read_file('Testing_Set/ham'):\n",
    "    test_mail.append([message,'ham'])\n",
    "    \n",
    "# converting test_mail to a numpy array\n",
    "test_data=np.asarray(test_mail)\n",
    "\n",
    "# Shows 260 mails with 2 columns (message,(spam/ham))\n",
    "print (test_data.shape)"
   ]
  },
  {
   "cell_type": "code",
   "execution_count": 7,
   "metadata": {
    "collapsed": false
   },
   "outputs": [],
   "source": [
    "example_counts=vectorizer.transform(test_data[:,0])\n",
    "predictions=classifer.predict(example_counts)"
   ]
  },
  {
   "cell_type": "code",
   "execution_count": 8,
   "metadata": {
    "collapsed": false
   },
   "outputs": [
    {
     "name": "stdout",
     "output_type": "stream",
     "text": [
      "Accuracy:  97.6923076923077\n"
     ]
    }
   ],
   "source": [
    "# Calculating accuracy of predicted labels by comparing with actual labels\n",
    "x=0\n",
    "for i in range(len(predictions)):\n",
    "    if test_data[i][1]==predictions[i]:\n",
    "        x+=1\n",
    "print (\"Accuracy: \", 100*x/len(predictions))"
   ]
  }
 ],
 "metadata": {
  "kernelspec": {
   "display_name": "Python 3",
   "language": "python",
   "name": "python3"
  },
  "language_info": {
   "codemirror_mode": {
    "name": "ipython",
    "version": 3
   },
   "file_extension": ".py",
   "mimetype": "text/x-python",
   "name": "python",
   "nbconvert_exporter": "python",
   "pygments_lexer": "ipython3",
   "version": "3.5.2"
  }
 },
 "nbformat": 4,
 "nbformat_minor": 2
}
